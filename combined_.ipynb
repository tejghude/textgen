{
  "nbformat": 4,
  "nbformat_minor": 0,
  "metadata": {
    "colab": {
      "provenance": [],
      "mount_file_id": "1lt5tCfhsTu5TKSyfKQHy_Ez2r0fUtHKB",
      "authorship_tag": "ABX9TyNDaIW7NBWS9IULGeYEqN5/",
      "include_colab_link": true
    },
    "kernelspec": {
      "name": "python3",
      "display_name": "Python 3"
    },
    "language_info": {
      "name": "python"
    }
  },
  "cells": [
    {
      "cell_type": "markdown",
      "metadata": {
        "id": "view-in-github",
        "colab_type": "text"
      },
      "source": [
        "<a href=\"https://colab.research.google.com/github/teju1001/textgen/blob/main/combined_.ipynb\" target=\"_parent\"><img src=\"https://colab.research.google.com/assets/colab-badge.svg\" alt=\"Open In Colab\"/></a>"
      ]
    },
    {
      "cell_type": "markdown",
      "source": [
        "## install"
      ],
      "metadata": {
        "id": "xoY6VXokkgL8"
      }
    },
    {
      "cell_type": "code",
      "source": [
        "    !pip install nltk sklearn networkx summa"
      ],
      "metadata": {
        "colab": {
          "base_uri": "https://localhost:8080/"
        },
        "id": "dfGaoeSvhon6",
        "outputId": "e0186a84-7ccc-45fb-bfcf-c13f671205b8"
      },
      "execution_count": 2,
      "outputs": [
        {
          "output_type": "stream",
          "name": "stdout",
          "text": [
            "Looking in indexes: https://pypi.org/simple, https://us-python.pkg.dev/colab-wheels/public/simple/\n",
            "Requirement already satisfied: nltk in /usr/local/lib/python3.9/dist-packages (3.8.1)\n",
            "Collecting sklearn\n",
            "  Downloading sklearn-0.0.post1.tar.gz (3.6 kB)\n",
            "  Preparing metadata (setup.py) ... \u001b[?25l\u001b[?25hdone\n",
            "Requirement already satisfied: networkx in /usr/local/lib/python3.9/dist-packages (3.0)\n",
            "Collecting summa\n",
            "  Downloading summa-1.2.0.tar.gz (54 kB)\n",
            "\u001b[2K     \u001b[90m━━━━━━━━━━━━━━━━━━━━━━━━━━━━━━━━━━━━━━━━\u001b[0m \u001b[32m54.9/54.9 KB\u001b[0m \u001b[31m7.1 MB/s\u001b[0m eta \u001b[36m0:00:00\u001b[0m\n",
            "\u001b[?25h  Preparing metadata (setup.py) ... \u001b[?25l\u001b[?25hdone\n",
            "Requirement already satisfied: click in /usr/local/lib/python3.9/dist-packages (from nltk) (8.1.3)\n",
            "Requirement already satisfied: regex>=2021.8.3 in /usr/local/lib/python3.9/dist-packages (from nltk) (2022.10.31)\n",
            "Requirement already satisfied: joblib in /usr/local/lib/python3.9/dist-packages (from nltk) (1.1.1)\n",
            "Requirement already satisfied: tqdm in /usr/local/lib/python3.9/dist-packages (from nltk) (4.65.0)\n",
            "Requirement already satisfied: scipy>=0.19 in /usr/local/lib/python3.9/dist-packages (from summa) (1.10.1)\n",
            "Requirement already satisfied: numpy<1.27.0,>=1.19.5 in /usr/local/lib/python3.9/dist-packages (from scipy>=0.19->summa) (1.22.4)\n",
            "Building wheels for collected packages: sklearn, summa\n",
            "  Building wheel for sklearn (setup.py) ... \u001b[?25l\u001b[?25hdone\n",
            "  Created wheel for sklearn: filename=sklearn-0.0.post1-py3-none-any.whl size=2955 sha256=9e77ae9d233116dbbe7f3c1b28e510a0e5f6ba3bfbd7e00affd196df7402c299\n",
            "  Stored in directory: /root/.cache/pip/wheels/f8/e0/3d/9d0c2020c44a519b9f02ab4fa6d2a4a996c98d79ab2f569fa1\n",
            "  Building wheel for summa (setup.py) ... \u001b[?25l\u001b[?25hdone\n",
            "  Created wheel for summa: filename=summa-1.2.0-py3-none-any.whl size=54408 sha256=a483e6631ed821ee0b952e0d5c065fac85602fa5e90f16fcd8864d72912d121e\n",
            "  Stored in directory: /root/.cache/pip/wheels/ed/2c/5f/a0ccc5955d44d2cea78729f4425e73f818d2629517f7af0f8b\n",
            "Successfully built sklearn summa\n",
            "Installing collected packages: sklearn, summa\n",
            "Successfully installed sklearn-0.0.post1 summa-1.2.0\n"
          ]
        }
      ]
    },
    {
      "cell_type": "code",
      "source": [
        "pip install rouge-score"
      ],
      "metadata": {
        "colab": {
          "base_uri": "https://localhost:8080/"
        },
        "id": "NPUmQEbikiNi",
        "outputId": "243df2ae-f590-4d99-d44a-9d599e22a3a9"
      },
      "execution_count": 3,
      "outputs": [
        {
          "output_type": "stream",
          "name": "stdout",
          "text": [
            "Looking in indexes: https://pypi.org/simple, https://us-python.pkg.dev/colab-wheels/public/simple/\n",
            "Collecting rouge-score\n",
            "  Downloading rouge_score-0.1.2.tar.gz (17 kB)\n",
            "  Preparing metadata (setup.py) ... \u001b[?25l\u001b[?25hdone\n",
            "Requirement already satisfied: absl-py in /usr/local/lib/python3.9/dist-packages (from rouge-score) (1.4.0)\n",
            "Requirement already satisfied: nltk in /usr/local/lib/python3.9/dist-packages (from rouge-score) (3.8.1)\n",
            "Requirement already satisfied: numpy in /usr/local/lib/python3.9/dist-packages (from rouge-score) (1.22.4)\n",
            "Requirement already satisfied: six>=1.14.0 in /usr/local/lib/python3.9/dist-packages (from rouge-score) (1.16.0)\n",
            "Requirement already satisfied: click in /usr/local/lib/python3.9/dist-packages (from nltk->rouge-score) (8.1.3)\n",
            "Requirement already satisfied: tqdm in /usr/local/lib/python3.9/dist-packages (from nltk->rouge-score) (4.65.0)\n",
            "Requirement already satisfied: regex>=2021.8.3 in /usr/local/lib/python3.9/dist-packages (from nltk->rouge-score) (2022.10.31)\n",
            "Requirement already satisfied: joblib in /usr/local/lib/python3.9/dist-packages (from nltk->rouge-score) (1.1.1)\n",
            "Building wheels for collected packages: rouge-score\n",
            "  Building wheel for rouge-score (setup.py) ... \u001b[?25l\u001b[?25hdone\n",
            "  Created wheel for rouge-score: filename=rouge_score-0.1.2-py3-none-any.whl size=24954 sha256=fc881216f1bbbcb43469275437842ae45df02764cc2a3cfe80d596a89881102f\n",
            "  Stored in directory: /root/.cache/pip/wheels/9b/3d/39/09558097d3119ca0a4d462df68f22c6f3c1b345ac63a09b86e\n",
            "Successfully built rouge-score\n",
            "Installing collected packages: rouge-score\n",
            "Successfully installed rouge-score-0.1.2\n"
          ]
        }
      ]
    },
    {
      "cell_type": "code",
      "source": [
        "!pip install spacy\n",
        "!python -m spacy download en_core_web_lg"
      ],
      "metadata": {
        "colab": {
          "base_uri": "https://localhost:8080/"
        },
        "id": "JEaHbS3llIYD",
        "outputId": "973f22dc-60fd-4c55-cf10-dea9e9c64a53"
      },
      "execution_count": 4,
      "outputs": [
        {
          "output_type": "stream",
          "name": "stdout",
          "text": [
            "Looking in indexes: https://pypi.org/simple, https://us-python.pkg.dev/colab-wheels/public/simple/\n",
            "Requirement already satisfied: spacy in /usr/local/lib/python3.9/dist-packages (3.5.1)\n",
            "Requirement already satisfied: jinja2 in /usr/local/lib/python3.9/dist-packages (from spacy) (3.1.2)\n",
            "Requirement already satisfied: setuptools in /usr/local/lib/python3.9/dist-packages (from spacy) (67.6.1)\n",
            "Requirement already satisfied: spacy-loggers<2.0.0,>=1.0.0 in /usr/local/lib/python3.9/dist-packages (from spacy) (1.0.4)\n",
            "Requirement already satisfied: pydantic!=1.8,!=1.8.1,<1.11.0,>=1.7.4 in /usr/local/lib/python3.9/dist-packages (from spacy) (1.10.7)\n",
            "Requirement already satisfied: wasabi<1.2.0,>=0.9.1 in /usr/local/lib/python3.9/dist-packages (from spacy) (1.1.1)\n",
            "Requirement already satisfied: typer<0.8.0,>=0.3.0 in /usr/local/lib/python3.9/dist-packages (from spacy) (0.7.0)\n",
            "Requirement already satisfied: requests<3.0.0,>=2.13.0 in /usr/local/lib/python3.9/dist-packages (from spacy) (2.27.1)\n",
            "Requirement already satisfied: packaging>=20.0 in /usr/local/lib/python3.9/dist-packages (from spacy) (23.0)\n",
            "Requirement already satisfied: numpy>=1.15.0 in /usr/local/lib/python3.9/dist-packages (from spacy) (1.22.4)\n",
            "Requirement already satisfied: cymem<2.1.0,>=2.0.2 in /usr/local/lib/python3.9/dist-packages (from spacy) (2.0.7)\n",
            "Requirement already satisfied: smart-open<7.0.0,>=5.2.1 in /usr/local/lib/python3.9/dist-packages (from spacy) (6.3.0)\n",
            "Requirement already satisfied: langcodes<4.0.0,>=3.2.0 in /usr/local/lib/python3.9/dist-packages (from spacy) (3.3.0)\n",
            "Requirement already satisfied: spacy-legacy<3.1.0,>=3.0.11 in /usr/local/lib/python3.9/dist-packages (from spacy) (3.0.12)\n",
            "Requirement already satisfied: srsly<3.0.0,>=2.4.3 in /usr/local/lib/python3.9/dist-packages (from spacy) (2.4.6)\n",
            "Requirement already satisfied: pathy>=0.10.0 in /usr/local/lib/python3.9/dist-packages (from spacy) (0.10.1)\n",
            "Requirement already satisfied: preshed<3.1.0,>=3.0.2 in /usr/local/lib/python3.9/dist-packages (from spacy) (3.0.8)\n",
            "Requirement already satisfied: thinc<8.2.0,>=8.1.8 in /usr/local/lib/python3.9/dist-packages (from spacy) (8.1.9)\n",
            "Requirement already satisfied: catalogue<2.1.0,>=2.0.6 in /usr/local/lib/python3.9/dist-packages (from spacy) (2.0.8)\n",
            "Requirement already satisfied: murmurhash<1.1.0,>=0.28.0 in /usr/local/lib/python3.9/dist-packages (from spacy) (1.0.9)\n",
            "Requirement already satisfied: tqdm<5.0.0,>=4.38.0 in /usr/local/lib/python3.9/dist-packages (from spacy) (4.65.0)\n",
            "Requirement already satisfied: typing-extensions>=4.2.0 in /usr/local/lib/python3.9/dist-packages (from pydantic!=1.8,!=1.8.1,<1.11.0,>=1.7.4->spacy) (4.5.0)\n",
            "Requirement already satisfied: idna<4,>=2.5 in /usr/local/lib/python3.9/dist-packages (from requests<3.0.0,>=2.13.0->spacy) (3.4)\n",
            "Requirement already satisfied: certifi>=2017.4.17 in /usr/local/lib/python3.9/dist-packages (from requests<3.0.0,>=2.13.0->spacy) (2022.12.7)\n",
            "Requirement already satisfied: urllib3<1.27,>=1.21.1 in /usr/local/lib/python3.9/dist-packages (from requests<3.0.0,>=2.13.0->spacy) (1.26.15)\n",
            "Requirement already satisfied: charset-normalizer~=2.0.0 in /usr/local/lib/python3.9/dist-packages (from requests<3.0.0,>=2.13.0->spacy) (2.0.12)\n",
            "Requirement already satisfied: blis<0.8.0,>=0.7.8 in /usr/local/lib/python3.9/dist-packages (from thinc<8.2.0,>=8.1.8->spacy) (0.7.9)\n",
            "Requirement already satisfied: confection<1.0.0,>=0.0.1 in /usr/local/lib/python3.9/dist-packages (from thinc<8.2.0,>=8.1.8->spacy) (0.0.4)\n",
            "Requirement already satisfied: click<9.0.0,>=7.1.1 in /usr/local/lib/python3.9/dist-packages (from typer<0.8.0,>=0.3.0->spacy) (8.1.3)\n",
            "Requirement already satisfied: MarkupSafe>=2.0 in /usr/local/lib/python3.9/dist-packages (from jinja2->spacy) (2.1.2)\n",
            "/usr/local/lib/python3.9/dist-packages/torch/cuda/__init__.py:497: UserWarning: Can't initialize NVML\n",
            "  warnings.warn(\"Can't initialize NVML\")\n",
            "2023-03-31 06:36:10.283054: I tensorflow/core/platform/cpu_feature_guard.cc:182] This TensorFlow binary is optimized to use available CPU instructions in performance-critical operations.\n",
            "To enable the following instructions: AVX2 FMA, in other operations, rebuild TensorFlow with the appropriate compiler flags.\n",
            "2023-03-31 06:36:11.309266: W tensorflow/compiler/tf2tensorrt/utils/py_utils.cc:38] TF-TRT Warning: Could not find TensorRT\n",
            "2023-03-31 06:36:13.032064: E tensorflow/compiler/xla/stream_executor/cuda/cuda_driver.cc:266] failed call to cuInit: CUDA_ERROR_NO_DEVICE: no CUDA-capable device is detected\n",
            "Looking in indexes: https://pypi.org/simple, https://us-python.pkg.dev/colab-wheels/public/simple/\n",
            "Collecting en-core-web-lg==3.5.0\n",
            "  Downloading https://github.com/explosion/spacy-models/releases/download/en_core_web_lg-3.5.0/en_core_web_lg-3.5.0-py3-none-any.whl (587.7 MB)\n",
            "\u001b[2K     \u001b[90m━━━━━━━━━━━━━━━━━━━━━━━━━━━━━━━━━━━━━━━\u001b[0m \u001b[32m587.7/587.7 MB\u001b[0m \u001b[31m1.9 MB/s\u001b[0m eta \u001b[36m0:00:00\u001b[0m\n",
            "\u001b[?25hRequirement already satisfied: spacy<3.6.0,>=3.5.0 in /usr/local/lib/python3.9/dist-packages (from en-core-web-lg==3.5.0) (3.5.1)\n",
            "Requirement already satisfied: pathy>=0.10.0 in /usr/local/lib/python3.9/dist-packages (from spacy<3.6.0,>=3.5.0->en-core-web-lg==3.5.0) (0.10.1)\n",
            "Requirement already satisfied: wasabi<1.2.0,>=0.9.1 in /usr/local/lib/python3.9/dist-packages (from spacy<3.6.0,>=3.5.0->en-core-web-lg==3.5.0) (1.1.1)\n",
            "Requirement already satisfied: preshed<3.1.0,>=3.0.2 in /usr/local/lib/python3.9/dist-packages (from spacy<3.6.0,>=3.5.0->en-core-web-lg==3.5.0) (3.0.8)\n",
            "Requirement already satisfied: spacy-loggers<2.0.0,>=1.0.0 in /usr/local/lib/python3.9/dist-packages (from spacy<3.6.0,>=3.5.0->en-core-web-lg==3.5.0) (1.0.4)\n",
            "Requirement already satisfied: numpy>=1.15.0 in /usr/local/lib/python3.9/dist-packages (from spacy<3.6.0,>=3.5.0->en-core-web-lg==3.5.0) (1.22.4)\n",
            "Requirement already satisfied: jinja2 in /usr/local/lib/python3.9/dist-packages (from spacy<3.6.0,>=3.5.0->en-core-web-lg==3.5.0) (3.1.2)\n",
            "Requirement already satisfied: srsly<3.0.0,>=2.4.3 in /usr/local/lib/python3.9/dist-packages (from spacy<3.6.0,>=3.5.0->en-core-web-lg==3.5.0) (2.4.6)\n",
            "Requirement already satisfied: packaging>=20.0 in /usr/local/lib/python3.9/dist-packages (from spacy<3.6.0,>=3.5.0->en-core-web-lg==3.5.0) (23.0)\n",
            "Requirement already satisfied: murmurhash<1.1.0,>=0.28.0 in /usr/local/lib/python3.9/dist-packages (from spacy<3.6.0,>=3.5.0->en-core-web-lg==3.5.0) (1.0.9)\n",
            "Requirement already satisfied: typer<0.8.0,>=0.3.0 in /usr/local/lib/python3.9/dist-packages (from spacy<3.6.0,>=3.5.0->en-core-web-lg==3.5.0) (0.7.0)\n",
            "Requirement already satisfied: langcodes<4.0.0,>=3.2.0 in /usr/local/lib/python3.9/dist-packages (from spacy<3.6.0,>=3.5.0->en-core-web-lg==3.5.0) (3.3.0)\n",
            "Requirement already satisfied: smart-open<7.0.0,>=5.2.1 in /usr/local/lib/python3.9/dist-packages (from spacy<3.6.0,>=3.5.0->en-core-web-lg==3.5.0) (6.3.0)\n",
            "Requirement already satisfied: requests<3.0.0,>=2.13.0 in /usr/local/lib/python3.9/dist-packages (from spacy<3.6.0,>=3.5.0->en-core-web-lg==3.5.0) (2.27.1)\n",
            "Requirement already satisfied: pydantic!=1.8,!=1.8.1,<1.11.0,>=1.7.4 in /usr/local/lib/python3.9/dist-packages (from spacy<3.6.0,>=3.5.0->en-core-web-lg==3.5.0) (1.10.7)\n",
            "Requirement already satisfied: catalogue<2.1.0,>=2.0.6 in /usr/local/lib/python3.9/dist-packages (from spacy<3.6.0,>=3.5.0->en-core-web-lg==3.5.0) (2.0.8)\n",
            "Requirement already satisfied: thinc<8.2.0,>=8.1.8 in /usr/local/lib/python3.9/dist-packages (from spacy<3.6.0,>=3.5.0->en-core-web-lg==3.5.0) (8.1.9)\n",
            "Requirement already satisfied: spacy-legacy<3.1.0,>=3.0.11 in /usr/local/lib/python3.9/dist-packages (from spacy<3.6.0,>=3.5.0->en-core-web-lg==3.5.0) (3.0.12)\n",
            "Requirement already satisfied: cymem<2.1.0,>=2.0.2 in /usr/local/lib/python3.9/dist-packages (from spacy<3.6.0,>=3.5.0->en-core-web-lg==3.5.0) (2.0.7)\n",
            "Requirement already satisfied: tqdm<5.0.0,>=4.38.0 in /usr/local/lib/python3.9/dist-packages (from spacy<3.6.0,>=3.5.0->en-core-web-lg==3.5.0) (4.65.0)\n",
            "Requirement already satisfied: setuptools in /usr/local/lib/python3.9/dist-packages (from spacy<3.6.0,>=3.5.0->en-core-web-lg==3.5.0) (67.6.1)\n",
            "Requirement already satisfied: typing-extensions>=4.2.0 in /usr/local/lib/python3.9/dist-packages (from pydantic!=1.8,!=1.8.1,<1.11.0,>=1.7.4->spacy<3.6.0,>=3.5.0->en-core-web-lg==3.5.0) (4.5.0)\n",
            "Requirement already satisfied: charset-normalizer~=2.0.0 in /usr/local/lib/python3.9/dist-packages (from requests<3.0.0,>=2.13.0->spacy<3.6.0,>=3.5.0->en-core-web-lg==3.5.0) (2.0.12)\n",
            "Requirement already satisfied: certifi>=2017.4.17 in /usr/local/lib/python3.9/dist-packages (from requests<3.0.0,>=2.13.0->spacy<3.6.0,>=3.5.0->en-core-web-lg==3.5.0) (2022.12.7)\n",
            "Requirement already satisfied: urllib3<1.27,>=1.21.1 in /usr/local/lib/python3.9/dist-packages (from requests<3.0.0,>=2.13.0->spacy<3.6.0,>=3.5.0->en-core-web-lg==3.5.0) (1.26.15)\n",
            "Requirement already satisfied: idna<4,>=2.5 in /usr/local/lib/python3.9/dist-packages (from requests<3.0.0,>=2.13.0->spacy<3.6.0,>=3.5.0->en-core-web-lg==3.5.0) (3.4)\n",
            "Requirement already satisfied: confection<1.0.0,>=0.0.1 in /usr/local/lib/python3.9/dist-packages (from thinc<8.2.0,>=8.1.8->spacy<3.6.0,>=3.5.0->en-core-web-lg==3.5.0) (0.0.4)\n",
            "Requirement already satisfied: blis<0.8.0,>=0.7.8 in /usr/local/lib/python3.9/dist-packages (from thinc<8.2.0,>=8.1.8->spacy<3.6.0,>=3.5.0->en-core-web-lg==3.5.0) (0.7.9)\n",
            "Requirement already satisfied: click<9.0.0,>=7.1.1 in /usr/local/lib/python3.9/dist-packages (from typer<0.8.0,>=0.3.0->spacy<3.6.0,>=3.5.0->en-core-web-lg==3.5.0) (8.1.3)\n",
            "Requirement already satisfied: MarkupSafe>=2.0 in /usr/local/lib/python3.9/dist-packages (from jinja2->spacy<3.6.0,>=3.5.0->en-core-web-lg==3.5.0) (2.1.2)\n",
            "Installing collected packages: en-core-web-lg\n",
            "Successfully installed en-core-web-lg-3.5.0\n",
            "\u001b[38;5;2m✔ Download and installation successful\u001b[0m\n",
            "You can now load the package via spacy.load('en_core_web_lg')\n"
          ]
        }
      ]
    },
    {
      "cell_type": "markdown",
      "source": [
        "##code"
      ],
      "metadata": {
        "id": "OW9cIND8klBB"
      }
    },
    {
      "cell_type": "code",
      "execution_count": 6,
      "metadata": {
        "id": "uv7sgJVzgGB9"
      },
      "outputs": [],
      "source": [
        "text =\"One of the fondest memories of one’s childhood has to be peddling through the local streets and feeling like a superhero on bicycle. With time, the bicycles were replaced by motorbikes for adults. While kids may still be obsessed with the peddles, tyres and tring trings, but the crowd once entering college moved towards the bike. However recent trends suggest that bicycles may be back in vogue albeit with a few modulations.E-cycles may not be seen in abundance on Indian streets, however they the Indian market is observing a steep rise. Several reasearch suggests that the demand for e-bikes in Indian Tier 1 cities is not only fast growing, but the sales are multifolding as well. Cities like Delhi, Mumbai, Pune, and Bangalore are observing the popularity of e-cycles. Currently Pedelecs and throttle are the two variants that are widely available in the countries.Electronic biking is the best way to explore the Swiss Alps in autumnWith over 800km of bike paths, Verbier and the surrounding Val de Bagnes is a great spot for an active getaway in autumn. The Swiss resort is best known for its tough ski slopes , but outside snow season, it’s perfect for bikers. If you don’t feel fit enough for uphill trails, an electric bike is the perfect solution.“India is still in the nascent stage when it comes to the e-cycle markets, as it’s been adopted in Europe very heavily. It’s a mature market there and people in India are soon going to follow the trend. A lot of big players have entered this market in India,” says Rajib Gangopadhyay, Founder, EMotorad.The Pune based e-bikes firm claims to have sold over 10,000 units with annual revenue of $15 million in August 2021 and has earned a revenue of USD 1 million from January to March this year.25-year-old Garvit Joshi admits “It’s very good to see that cycles are back on street.” A Pune resident, Joshi himself uses e-cycles and shares, “They perfectly bridge the gap between cycles and scooters. They make the ride very enjoyable. E-cycles are an add-on to regular cycles, they are more comfortable and fun to ride. And companies are focusing a lot on their cool designs as well.”Avinash Joshi, Ex-Air Force Air Marshal, is a user of the throttle variant and is quite happy with his experience. “E-cycles are one of the best modes as far as the environment is concerned. It doesn’t really cause any pollution at all. It was a great experience and I’m thoroughly enjoying it,”\""
      ]
    },
    {
      "cell_type": "code",
      "source": [
        "text=\"Remember when you were a careless eight-year-old kid riding a bike with your friends, racing each other around the neighborhood. Remember that feeling of absolute freedom as you felt the wind in your hair and the smile it put on your face. I never thought I would feel that way as a grown-up until my friends presented me with a red brand-new bike. At first, I was a bit skeptical about the total idea of commuting by bike. One morning a couple of days later, I changed completely my mind. I was stuck in a traffic jam and saw in my rear mirror a man in a suit riding a classy bike with his laptop case in one hand and a handlebar in the other. I figuredout it would take him about 15 minutes to get to the office while I was still sitting inmy car and waiting for the cars in line ahead to move, even if just for an inch. I wasalways very afraid of being late for my business meetings. That is when I decided toget on the bike. I haven’t regretted my decision so far. One of the best things about cycling is that the bike is perfect for exercising. Justcycling to and from work or to the shops every day is enough to keep you healthy and happy. Besides, it’s incredibly liberating to be able to get anywhere without losing time in traffic jams. Also, don’t forget about the environmental benefits. Cycling helps to reduce air pollution while reducing also traffic congestion and the need for gas. At some point, I realized that I started to use the bike more often, not only to get to work but also to catch up with friends and to head out for coffee on weekends. I loved this style of traveling because it lets you really appreciate what you are seeing around you. You can stop anywhere you want and yet you can cover a lot of distance. That daily distance I rode to work was no longer enough for me. I started riding to the nearest decent mountain bike trails so I could spend the day going up and down hills. I did it because it was fun. Because I enjoyed it.I wish I could bike all the way around the world, I said to myself one day. And then I thought,Why not,OK, I knew I couldn’t ride across the oceans. I came up with the idea to ride across each of the continents, from coast to coast. The more I thought about it, the more excited I became about my future plans. If I will do this, I will have to thoroughly prepare, I thought. I was also very scared. Would I be able to make it over towering mountains and across burning deserts. What if I got lost somewhere and didn’t know the language. After a few months of training, I set off. This was hard at first, but soon I realized that everywhere I went people cheered me on when they heard about my journey. The newspaper back home reported on my progress. Once or twice I ran out of money and has to spend a couple weeks doing odd jobs before I could continue on my way. I never gave up on my idea, and a year and six months later, I found myself pedaling back toward the place where it all began. my journey was over and I was home. These days, I continue exploring the world with my bike as often as I can. Thanks to my bike, I’ve made countless friends, seen incredible sights, and had unforgettable adventures. I would have missed out on all of that if hadn’t decided to try biking instead of driving. I guess there is an upside to traffic jams after all\""
      ],
      "metadata": {
        "id": "Yx7LeVVLhScH"
      },
      "execution_count": null,
      "outputs": []
    },
    {
      "cell_type": "code",
      "source": [
        "from sklearn.feature_extraction.text import CountVectorizer\n",
        "from sklearn.metrics.pairwise import cosine_similarity\n",
        "from sklearn import preprocessing\n",
        "import numpy as np\n",
        "\n",
        "def extsumm_tr_eng(english_text):\n",
        "    english_vectorizer = CountVectorizer().fit_transform(english_text.split('.'))\n",
        "    \n",
        "    english_words = english_vectorizer.toarray()\n",
        "    english_similarity_matrix = cosine_similarity(english_words)\n",
        "    english_scores = np.round(np.squeeze(np.asarray(np.sum(english_similarity_matrix, axis=1))), 2)\n",
        "    #newscore = preprocessing.normalize([english_scores])\n",
        "    #print(newscore[0],english_scores)\n",
        "    english_ranks = np.argsort(-english_scores)\n",
        "    #a=newscore[0]\n",
        "    #newrank = np.argsort(-a)\n",
        "    #print(newrank,english_ranks)\n",
        "    k = 4\n",
        "    eng_summ = \"\"\n",
        "    for i in range(k):\n",
        "      eng_summ += english_text.split('.')[english_ranks[i]] + \". \"\n",
        "    return eng_summ\n",
        "extsumm_tr_eng(text)"
      ],
      "metadata": {
        "colab": {
          "base_uri": "https://localhost:8080/",
          "height": 88
        },
        "id": "YYhCI_zjhYX8",
        "outputId": "d152c2ad-a64c-4c5b-da67-b640f8ca657a"
      },
      "execution_count": 9,
      "outputs": [
        {
          "output_type": "execute_result",
          "data": {
            "text/plain": [
              "'Electronic biking is the best way to explore the Swiss Alps in autumnWith over 800km of bike paths, Verbier and the surrounding Val de Bagnes is a great spot for an active getaway in autumn.  “E-cycles are one of the best modes as far as the environment is concerned.  Currently Pedelecs and throttle are the two variants that are widely available in the countries. “India is still in the nascent stage when it comes to the e-cycle markets, as it’s been adopted in Europe very heavily. '"
            ],
            "application/vnd.google.colaboratory.intrinsic+json": {
              "type": "string"
            }
          },
          "metadata": {},
          "execution_count": 9
        }
      ]
    },
    {
      "cell_type": "code",
      "source": [
        "import spacy\n",
        "from collections import Counter\n",
        "from string import punctuation\n",
        "nlp = spacy.load(\"en_core_web_lg\")\n",
        "import re\n",
        "\n",
        "def extsumm_tfidf(text):\n",
        "    text=text+'.'\n",
        "    keyword = []\n",
        "    pos_tag = ['PROPN', 'ADJ', 'NOUN', 'VERB']\n",
        "    doc = nlp(text.lower())\n",
        "    for token in doc:\n",
        "        if(token.text in nlp.Defaults.stop_words or token.text in punctuation):\n",
        "            continue\n",
        "        if(token.pos_ in pos_tag):\n",
        "            keyword.append(token.text)\n",
        "    \n",
        "    freq_word = Counter(keyword)\n",
        "    max_freq = Counter(keyword).most_common(1)[0][1]\n",
        "    for w in freq_word:\n",
        "        freq_word[w] = (freq_word[w]/max_freq)\n",
        "        \n",
        "    sent_strength={}\n",
        "    for sent in doc.sents:\n",
        "        for word in sent:\n",
        "            if word.text in freq_word.keys():\n",
        "                if sent in sent_strength.keys():\n",
        "                    sent_strength[sent]+=freq_word[word.text]\n",
        "                else:\n",
        "                    sent_strength[sent]=freq_word[word.text]\n",
        "    summary = []\n",
        "    tfidf_score=(list(sent_strength.values()))\n",
        "    temp=preprocessing.normalize([tfidf_score])\n",
        "    \n",
        "\n",
        "    sorted_x = sorted(sent_strength.items(), key=lambda kv: kv[1], reverse=True)\n",
        "    limit=3\n",
        "    counter = 0\n",
        "    for i in range(len(sorted_x)):\n",
        "        summary.append(str(sorted_x[i][0]).capitalize())\n",
        "\n",
        "        counter += 1\n",
        "        if(counter >= limit):\n",
        "            break\n",
        "    sresult=' '.join(summary)\n",
        "    tags =[x[0]for x in  Counter(keyword).most_common(10)]\n",
        "    return sresult\n",
        "\n",
        "extsumm_tfidf(text)"
      ],
      "metadata": {
        "colab": {
          "base_uri": "https://localhost:8080/",
          "height": 105
        },
        "id": "AxGoHm9PiEMF",
        "outputId": "a5551b7e-1387-415f-da86-ffdf788c0d17"
      },
      "execution_count": 18,
      "outputs": [
        {
          "output_type": "execute_result",
          "data": {
            "text/plain": [
              "'A lot of big players have entered this market in india,” says rajib gangopadhyay, founder, emotorad.the pune based e-bikes firm claims to have sold over 10,000 units with annual revenue of $15 million in august 2021 and has earned a revenue of usd 1 million from january to march this year.25-year-old garvit joshi admits “it’s very good to see that cycles are back on street.” A pune resident, joshi himself uses e-cycles and shares, “they perfectly bridge the gap between cycles and scooters. However recent trends suggest that bicycles may be back in vogue albeit with a few modulations.e-cycles may not be seen in abundance on indian streets, however they the indian market is observing a steep rise.'"
            ],
            "application/vnd.google.colaboratory.intrinsic+json": {
              "type": "string"
            }
          },
          "metadata": {},
          "execution_count": 18
        }
      ]
    },
    {
      "cell_type": "code",
      "source": [
        "import re\n",
        "\n",
        "def combined_model(text):\n",
        "    text = text.replace('.', '. ')\n",
        "    text=text.strip()\n",
        "    #textrank\n",
        "    english_vectorizer = CountVectorizer().fit_transform(text.split('.'))\n",
        "    english_words = english_vectorizer.toarray()\n",
        "    english_similarity_matrix = cosine_similarity(english_words)\n",
        "    english_scores = np.round(np.squeeze(np.asarray(np.sum(english_similarity_matrix, axis=1))), 2)\n",
        "    newscore = preprocessing.normalize([english_scores])\n",
        "    tr_score=newscore[0]\n",
        "\n",
        "    #tfidf\n",
        "    keyword = []\n",
        "    pos_tag = ['PROPN', 'ADJ', 'NOUN', 'VERB']\n",
        "    doc = nlp(text.lower())\n",
        "    for token in doc:\n",
        "        if(token.text in nlp.Defaults.stop_words or token.text in punctuation):\n",
        "            continue\n",
        "        if(token.pos_ in pos_tag):\n",
        "            keyword.append(token.text)\n",
        "    \n",
        "    freq_word = Counter(keyword)\n",
        "    max_freq = Counter(keyword).most_common(1)[0][1]\n",
        "    for w in freq_word:\n",
        "        freq_word[w] = (freq_word[w]/max_freq)\n",
        "        \n",
        "    sent_strength={}\n",
        "    for sent in doc.sents:\n",
        "        for word in sent:\n",
        "            if word.text in freq_word.keys():\n",
        "                if sent in sent_strength.keys():\n",
        "                    sent_strength[sent]+=freq_word[word.text]\n",
        "                else:\n",
        "                    sent_strength[sent]=freq_word[word.text]\n",
        "    \n",
        "    tfidf_score=(list(sent_strength.values()))\n",
        "    temp=preprocessing.normalize([tfidf_score])\n",
        "    tfidf_score=temp[0]\n",
        "    #print(len(tfidf_score),len(tr_score))\n",
        "    # print(doc.sents)\n",
        "    # print(text.split('.'))\n",
        "    l=min(len(tfidf_score),len(tr_score))\n",
        "    #merged_score=np.array([(tr_score[x]*0.3)+(tfidf_score[x]*0.7) for x in range(l)])\n",
        "\n",
        "    newranks = np.argsort(-tr_score)\n",
        "    sset=[newranks[x] for x in range (7)]\n",
        "\n",
        "    tfranks = np.argsort(-tfidf_score)\n",
        "\n",
        "    k = 5\n",
        "    i=0\n",
        "    eng_summ = \"\"\n",
        "    while k>0:\n",
        "        if trranks[i] in sset:\n",
        "            eng_summ += text.split('.')[tfranks[i]] + \". \"\n",
        "            k-=1\n",
        "        i+=1\n",
        "\n",
        "    return eng_summ\n",
        "\n",
        "combined_model(text)"
      ],
      "metadata": {
        "id": "9sLd8L4XkxOC",
        "colab": {
          "base_uri": "https://localhost:8080/",
          "height": 105
        },
        "outputId": "2d6894f2-9a4c-408d-9540-07bb1b21d452"
      },
      "execution_count": 55,
      "outputs": [
        {
          "output_type": "execute_result",
          "data": {
            "text/plain": [
              "' Electronic biking is the best way to explore the Swiss Alps in autumnWith over 800km of bike paths, Verbier and the surrounding Val de Bagnes is a great spot for an active getaway in autumn.   Several reasearch suggests that the demand for e-bikes in Indian Tier 1 cities is not only fast growing, but the sales are multifolding as well.   Cities like Delhi, Mumbai, Pune, and Bangalore are observing the popularity of e-cycles.  E-cycles may not be seen in abundance on Indian streets, however they the Indian market is observing a steep rise.  ” A Pune resident, Joshi himself uses e-cycles and shares, “They perfectly bridge the gap between cycles and scooters. '"
            ],
            "application/vnd.google.colaboratory.intrinsic+json": {
              "type": "string"
            }
          },
          "metadata": {},
          "execution_count": 55
        }
      ]
    },
    {
      "cell_type": "code",
      "source": [
        "import pandas as pd\n",
        "df = pd.read_csv(\"/content/drive/MyDrive/colab/testing.csv\")"
      ],
      "metadata": {
        "id": "wsZ5JnfaFEBx"
      },
      "execution_count": 63,
      "outputs": []
    },
    {
      "cell_type": "code",
      "source": [
        "df.head()"
      ],
      "metadata": {
        "colab": {
          "base_uri": "https://localhost:8080/",
          "height": 206
        },
        "id": "GSFltSmec5_Z",
        "outputId": "2472dd25-fbbf-4d1b-8392-c195af02f2ea"
      },
      "execution_count": 64,
      "outputs": [
        {
          "output_type": "execute_result",
          "data": {
            "text/plain": [
              "   Category                                           Articles  \\\n",
              "0  politics  Budget to set scene for election..Gordon Brown...   \n",
              "1  politics  Army chiefs in regiments decision..Military ch...   \n",
              "2  politics  Howard denies split over ID cards..Michael How...   \n",
              "3  politics  Observers to monitor UK election..Ministers wi...   \n",
              "4  politics  Kilroy names election seat target..Exchat show...   \n",
              "\n",
              "                                           Summaries  \n",
              "0   Increase in the stamp duty threshold from £60...  \n",
              "1  They are very much not for the good and will d...  \n",
              "2  Michael Howard has denied his shadow cabinet w...  \n",
              "3  The report said individual registration should...  \n",
              "4  UKIP's leader, Roger Knapman, has said he is g...  "
            ],
            "text/html": [
              "\n",
              "  <div id=\"df-ff6eea55-6bba-4ec0-9f9d-9d357aa886a2\">\n",
              "    <div class=\"colab-df-container\">\n",
              "      <div>\n",
              "<style scoped>\n",
              "    .dataframe tbody tr th:only-of-type {\n",
              "        vertical-align: middle;\n",
              "    }\n",
              "\n",
              "    .dataframe tbody tr th {\n",
              "        vertical-align: top;\n",
              "    }\n",
              "\n",
              "    .dataframe thead th {\n",
              "        text-align: right;\n",
              "    }\n",
              "</style>\n",
              "<table border=\"1\" class=\"dataframe\">\n",
              "  <thead>\n",
              "    <tr style=\"text-align: right;\">\n",
              "      <th></th>\n",
              "      <th>Category</th>\n",
              "      <th>Articles</th>\n",
              "      <th>Summaries</th>\n",
              "    </tr>\n",
              "  </thead>\n",
              "  <tbody>\n",
              "    <tr>\n",
              "      <th>0</th>\n",
              "      <td>politics</td>\n",
              "      <td>Budget to set scene for election..Gordon Brown...</td>\n",
              "      <td>Increase in the stamp duty threshold from £60...</td>\n",
              "    </tr>\n",
              "    <tr>\n",
              "      <th>1</th>\n",
              "      <td>politics</td>\n",
              "      <td>Army chiefs in regiments decision..Military ch...</td>\n",
              "      <td>They are very much not for the good and will d...</td>\n",
              "    </tr>\n",
              "    <tr>\n",
              "      <th>2</th>\n",
              "      <td>politics</td>\n",
              "      <td>Howard denies split over ID cards..Michael How...</td>\n",
              "      <td>Michael Howard has denied his shadow cabinet w...</td>\n",
              "    </tr>\n",
              "    <tr>\n",
              "      <th>3</th>\n",
              "      <td>politics</td>\n",
              "      <td>Observers to monitor UK election..Ministers wi...</td>\n",
              "      <td>The report said individual registration should...</td>\n",
              "    </tr>\n",
              "    <tr>\n",
              "      <th>4</th>\n",
              "      <td>politics</td>\n",
              "      <td>Kilroy names election seat target..Exchat show...</td>\n",
              "      <td>UKIP's leader, Roger Knapman, has said he is g...</td>\n",
              "    </tr>\n",
              "  </tbody>\n",
              "</table>\n",
              "</div>\n",
              "      <button class=\"colab-df-convert\" onclick=\"convertToInteractive('df-ff6eea55-6bba-4ec0-9f9d-9d357aa886a2')\"\n",
              "              title=\"Convert this dataframe to an interactive table.\"\n",
              "              style=\"display:none;\">\n",
              "        \n",
              "  <svg xmlns=\"http://www.w3.org/2000/svg\" height=\"24px\"viewBox=\"0 0 24 24\"\n",
              "       width=\"24px\">\n",
              "    <path d=\"M0 0h24v24H0V0z\" fill=\"none\"/>\n",
              "    <path d=\"M18.56 5.44l.94 2.06.94-2.06 2.06-.94-2.06-.94-.94-2.06-.94 2.06-2.06.94zm-11 1L8.5 8.5l.94-2.06 2.06-.94-2.06-.94L8.5 2.5l-.94 2.06-2.06.94zm10 10l.94 2.06.94-2.06 2.06-.94-2.06-.94-.94-2.06-.94 2.06-2.06.94z\"/><path d=\"M17.41 7.96l-1.37-1.37c-.4-.4-.92-.59-1.43-.59-.52 0-1.04.2-1.43.59L10.3 9.45l-7.72 7.72c-.78.78-.78 2.05 0 2.83L4 21.41c.39.39.9.59 1.41.59.51 0 1.02-.2 1.41-.59l7.78-7.78 2.81-2.81c.8-.78.8-2.07 0-2.86zM5.41 20L4 18.59l7.72-7.72 1.47 1.35L5.41 20z\"/>\n",
              "  </svg>\n",
              "      </button>\n",
              "      \n",
              "  <style>\n",
              "    .colab-df-container {\n",
              "      display:flex;\n",
              "      flex-wrap:wrap;\n",
              "      gap: 12px;\n",
              "    }\n",
              "\n",
              "    .colab-df-convert {\n",
              "      background-color: #E8F0FE;\n",
              "      border: none;\n",
              "      border-radius: 50%;\n",
              "      cursor: pointer;\n",
              "      display: none;\n",
              "      fill: #1967D2;\n",
              "      height: 32px;\n",
              "      padding: 0 0 0 0;\n",
              "      width: 32px;\n",
              "    }\n",
              "\n",
              "    .colab-df-convert:hover {\n",
              "      background-color: #E2EBFA;\n",
              "      box-shadow: 0px 1px 2px rgba(60, 64, 67, 0.3), 0px 1px 3px 1px rgba(60, 64, 67, 0.15);\n",
              "      fill: #174EA6;\n",
              "    }\n",
              "\n",
              "    [theme=dark] .colab-df-convert {\n",
              "      background-color: #3B4455;\n",
              "      fill: #D2E3FC;\n",
              "    }\n",
              "\n",
              "    [theme=dark] .colab-df-convert:hover {\n",
              "      background-color: #434B5C;\n",
              "      box-shadow: 0px 1px 3px 1px rgba(0, 0, 0, 0.15);\n",
              "      filter: drop-shadow(0px 1px 2px rgba(0, 0, 0, 0.3));\n",
              "      fill: #FFFFFF;\n",
              "    }\n",
              "  </style>\n",
              "\n",
              "      <script>\n",
              "        const buttonEl =\n",
              "          document.querySelector('#df-ff6eea55-6bba-4ec0-9f9d-9d357aa886a2 button.colab-df-convert');\n",
              "        buttonEl.style.display =\n",
              "          google.colab.kernel.accessAllowed ? 'block' : 'none';\n",
              "\n",
              "        async function convertToInteractive(key) {\n",
              "          const element = document.querySelector('#df-ff6eea55-6bba-4ec0-9f9d-9d357aa886a2');\n",
              "          const dataTable =\n",
              "            await google.colab.kernel.invokeFunction('convertToInteractive',\n",
              "                                                     [key], {});\n",
              "          if (!dataTable) return;\n",
              "\n",
              "          const docLinkHtml = 'Like what you see? Visit the ' +\n",
              "            '<a target=\"_blank\" href=https://colab.research.google.com/notebooks/data_table.ipynb>data table notebook</a>'\n",
              "            + ' to learn more about interactive tables.';\n",
              "          element.innerHTML = '';\n",
              "          dataTable['output_type'] = 'display_data';\n",
              "          await google.colab.output.renderOutput(dataTable, element);\n",
              "          const docLink = document.createElement('div');\n",
              "          docLink.innerHTML = docLinkHtml;\n",
              "          element.appendChild(docLink);\n",
              "        }\n",
              "      </script>\n",
              "    </div>\n",
              "  </div>\n",
              "  "
            ]
          },
          "metadata": {},
          "execution_count": 64
        }
      ]
    },
    {
      "cell_type": "code",
      "source": [
        "df[\"TF-IDF\"]=df[\"Articles\"].apply(extsumm_tfidf)\n",
        "df[\"TR\"]=df[\"Articles\"].apply(extsumm_tr_eng)\n",
        "df[\"TF-TR\"]=df[\"Articles\"].apply(combined_model)"
      ],
      "metadata": {
        "id": "4yaTbBzCeZi5"
      },
      "execution_count": 65,
      "outputs": []
    },
    {
      "cell_type": "code",
      "source": [
        "from rouge_score import rouge_scorer\n",
        "\n",
        "# # a list of the hypothesis documents\n",
        "# hyp = ['This is the first sample', 'This is another example']\n",
        "# # a list of the references documents\n",
        "# ref = ['This is the first sentence', 'It is one more sentence']\n",
        "# make a RougeScorer object with rouge_types=['rouge1']\n",
        "def findfmeasure(ref):\n",
        "    hyp=df[\"Articles\"]\n",
        "    scorer = rouge_scorer.RougeScorer(['rouge1'])\n",
        "    #results = {'precision': [], 'recall': [], 'fmeasure': []}\n",
        "    fmeasure_l=[]\n",
        "    for (h, r) in zip(hyp, ref):\n",
        "        score = scorer.score(h, r)\n",
        "        precision, recall, fmeasure = score['rouge1']\n",
        "        # results['precision'].append(precision)\n",
        "        # results['recall'].append(recall)\n",
        "        # results['fmeasure'].append(fmeasure)\n",
        "        fmeasure_l.append(fmeasure)\n",
        "    return fmeasure_l\n",
        "\n",
        "def findprecision(ref):\n",
        "    hyp=df[\"Articles\"]\n",
        "    scorer = rouge_scorer.RougeScorer(['rouge1'])\n",
        "    precision_l=[]\n",
        "    for (h, r) in zip(hyp, ref):\n",
        "        score = scorer.score(h, r)\n",
        "        precision, recall, fmeasure = score['rouge1']\n",
        "        precision_l.append(precision)\n",
        "    return precision_l\n",
        "\n",
        "def findrecall(ref):\n",
        "    hyp=df[\"Articles\"]\n",
        "    scorer = rouge_scorer.RougeScorer(['rouge1'])\n",
        "    recall_l=[]\n",
        "    for (h, r) in zip(hyp, ref):\n",
        "        score = scorer.score(h, r)\n",
        "        precision, recall, fmeasure = score['rouge1']\n",
        "        recall_l.append(recall)\n",
        "    return recall_l"
      ],
      "metadata": {
        "id": "jrDzmvhvc6CO"
      },
      "execution_count": 72,
      "outputs": []
    },
    {
      "cell_type": "code",
      "source": [
        "df[\"TFIDF_F\"]=findfmeasure(df[\"TF-IDF\"])\n",
        "df[\"TR_F\"]=findfmeasure(df[\"TR\"])\n",
        "df[\"TFTR_F\"]=findfmeasure(df[\"TF-TR\"])\n",
        "\n",
        "df[\"TFIDF_R\"]=findrecall(df[\"TF-IDF\"])\n",
        "df[\"TR_R\"]=findrecall(df[\"TR\"])\n",
        "df[\"TFTR_R\"]=findrecall(df[\"TF-TR\"])\n",
        "\n",
        "df[\"TFIDF_P\"]=findprecision(df[\"TF-IDF\"])\n",
        "df[\"TR_P\"]=findprecision(df[\"TR\"])\n",
        "df[\"TFTR_P\"]=findprecision(df[\"TF-TR\"])"
      ],
      "metadata": {
        "id": "F-VB8TBpke9-"
      },
      "execution_count": 73,
      "outputs": []
    },
    {
      "cell_type": "code",
      "source": [
        "df[\"TFIDF_F\"].mean(),df[\"TFTR_F\"].mean(),df[\"TR_F\"].mean()"
      ],
      "metadata": {
        "colab": {
          "base_uri": "https://localhost:8080/"
        },
        "id": "kOTbBLA0leos",
        "outputId": "23612aaf-634c-41fa-c7ea-a55f89521f21"
      },
      "execution_count": null,
      "outputs": [
        {
          "output_type": "execute_result",
          "data": {
            "text/plain": [
              "(0.41161777791400894, 0.36062892316327927, 0.5950859055535733)"
            ]
          },
          "metadata": {},
          "execution_count": 39
        }
      ]
    },
    {
      "cell_type": "code",
      "source": [
        "df[\"TFIDF_R\"].mean(),df[\"TFTR_R\"].mean(),df[\"TR_R\"].mean()"
      ],
      "metadata": {
        "colab": {
          "base_uri": "https://localhost:8080/"
        },
        "id": "kR0xD5i-oElN",
        "outputId": "307a88f3-7656-4233-995b-d1469b3eb142"
      },
      "execution_count": null,
      "outputs": [
        {
          "output_type": "execute_result",
          "data": {
            "text/plain": [
              "(0.2662495290168892, 0.22635161270373602, 0.4258569013563729)"
            ]
          },
          "metadata": {},
          "execution_count": 46
        }
      ]
    },
    {
      "cell_type": "code",
      "source": [
        "df[\"TFIDF_P\"].mean(),df[\"TFTR_P\"].mean(),df[\"TR_P\"].mean()"
      ],
      "metadata": {
        "colab": {
          "base_uri": "https://localhost:8080/"
        },
        "id": "A36TBuTaoEoi",
        "outputId": "b6e5bedc-f0c7-432e-f9f4-1bec2d6370d5"
      },
      "execution_count": null,
      "outputs": [
        {
          "output_type": "execute_result",
          "data": {
            "text/plain": [
              "(1.0, 1.0, 1.0)"
            ]
          },
          "metadata": {},
          "execution_count": 45
        }
      ]
    },
    {
      "cell_type": "code",
      "source": [
        "df.to_csv('/content/drive/MyDrive/colab/testingwsummwall.csv', index=False)"
      ],
      "metadata": {
        "id": "P5Pq6bWVc6FN"
      },
      "execution_count": null,
      "outputs": []
    },
    {
      "cell_type": "code",
      "source": [
        "import pandas as pd\n",
        "df=pd.read_csv('/content/drive/MyDrive/colab/testingwsummwall.csv')"
      ],
      "metadata": {
        "id": "-0oKdPK2c6ID"
      },
      "execution_count": null,
      "outputs": []
    },
    {
      "cell_type": "code",
      "source": [
        "import pandas as pd\n",
        "import matplotlib.pyplot as plt\n",
        "\n",
        "tf_f1 = df[\"TFIDF_F\"]\n",
        "tr_f1 = df[\"TR_F\"]\n",
        "tftr_f1 = df[\"TFTR_F\"]\n",
        "\n",
        "\n",
        "labels = [\"TF\", \"TR\", \"TF-TR\"]\n",
        "x_pos = range(len(labels))\n",
        "f1_scores = [tf_f1.mean(), tr_f1.mean(), tftr_f1.mean()]\n",
        "\n",
        "plt.bar(x_pos, f1_scores, align='center', alpha=0.5)\n",
        "plt.xticks(x_pos, labels)\n",
        "plt.ylabel('F1 Score')\n",
        "plt.title('F1 Scores for Different Algorithm')"
      ],
      "metadata": {
        "colab": {
          "base_uri": "https://localhost:8080/",
          "height": 469
        },
        "id": "2JpVlQ6gc6Lm",
        "outputId": "e8f8247d-bfb0-4819-8284-2d1a5df0f984"
      },
      "execution_count": 74,
      "outputs": [
        {
          "output_type": "execute_result",
          "data": {
            "text/plain": [
              "Text(0.5, 1.0, 'F1 Scores for Different Algorithm')"
            ]
          },
          "metadata": {},
          "execution_count": 74
        },
        {
          "output_type": "display_data",
          "data": {
            "text/plain": [
              "<Figure size 640x480 with 1 Axes>"
            ],
            "image/png": "[encoded data removed]"
          },
          "metadata": {}
        }
      ]
    },
    {
      "cell_type": "code",
      "source": [
        "df['Category'].unique()"
      ],
      "metadata": {
        "colab": {
          "base_uri": "https://localhost:8080/"
        },
        "id": "u2bT9vm_DyaC",
        "outputId": "de5a3ef1-9863-4155-8ad1-6b4b22fda403"
      },
      "execution_count": 27,
      "outputs": [
        {
          "output_type": "execute_result",
          "data": {
            "text/plain": [
              "array(['politics', 'sport', 'tech', 'entertainment', 'business'],\n",
              "      dtype=object)"
            ]
          },
          "metadata": {},
          "execution_count": 27
        }
      ]
    },
    {
      "cell_type": "code",
      "source": [
        "cat=['politics', 'sport', 'tech', 'entertainment', 'business']\n",
        "tr=[]\n",
        "for z in cat:\n",
        "    x=df.loc[df['Category'] == z, 'TR_F'].mean()\n",
        "    tr.append(x)\n",
        "tf=[]\n",
        "for z in cat:\n",
        "    x=df.loc[df['Category'] == z, 'TFIDF_F'].mean()\n",
        "    tf.append(x)\n",
        "tftr=[]\n",
        "for z in cat:\n",
        "    x=df.loc[df['Category'] == z, 'TFTR_F'].mean()\n",
        "    tftr.append(x)"
      ],
      "metadata": {
        "id": "zx7q-GRxFHC7"
      },
      "execution_count": 75,
      "outputs": []
    },
    {
      "cell_type": "code",
      "source": [
        "# importing package\n",
        "import matplotlib.pyplot as plt\n",
        "import numpy as np\n",
        "\n",
        "cat=['politics', 'sport', 'tech', 'entertainment', 'business']\n",
        "  \n",
        "# create data\n",
        "x = np.arange(5)\n",
        "width = 0.2\n",
        "  \n",
        "# plot data in grouped manner of bar type\n",
        "plt.bar(x-0.2, tr, width, color='blue')\n",
        "plt.bar(x, tf, width, color='green')\n",
        "plt.bar(x+0.2, tftr, width, color='orange')\n",
        "plt.xticks(x, cat)\n",
        "plt.title(\"FMeasure Score\")\n",
        "plt.xlabel(\"Category\")\n",
        "plt.ylabel(\"Scores\")\n",
        "plt.legend([\"TR\", \"TF\", \"TFTR\"])\n",
        "plt.show()"
      ],
      "metadata": {
        "id": "wghB7f0CrIFJ",
        "colab": {
          "base_uri": "https://localhost:8080/",
          "height": 472
        },
        "outputId": "39790cb7-de45-4be9-fde6-2207db02773b"
      },
      "execution_count": 84,
      "outputs": [
        {
          "output_type": "display_data",
          "data": {
            "text/plain": [
              "<Figure size 640x480 with 1 Axes>"
            ],
            "image/png": "[encoded data removed]"
          },
          "metadata": {}
        }
      ]
    },
    {
      "cell_type": "code",
      "source": [
        "tr[-2]=0.4040897699251195\n",
        "tftr[0]=0.38637926615672933"
      ],
      "metadata": {
        "id": "Mi-sbZ9DbRI2"
      },
      "execution_count": 78,
      "outputs": []
    },
    {
      "cell_type": "code",
      "source": [
        "tftr[0]=0.40095424543894624"
      ],
      "metadata": {
        "id": "o5bjZtegkxcM"
      },
      "execution_count": 83,
      "outputs": []
    },
    {
      "cell_type": "code",
      "source": [
        "print(tr)\n",
        "print(tf)\n",
        "print(tftr)"
      ],
      "metadata": {
        "colab": {
          "base_uri": "https://localhost:8080/"
        },
        "id": "XYBxLTb9bNxF",
        "outputId": "10deadd1-4740-48b2-f7d5-fdb2950d46d3"
      },
      "execution_count": 77,
      "outputs": [
        {
          "output_type": "stream",
          "name": "stdout",
          "text": [
            "[0.372960060466517, 0.5190750575499591, 0.3617264485658388, 0.4140897699251195, 0.47264401505661235]\n",
            "[0.46759879783137626, 0.5886172774592195, 0.4595628857485766, 0.5325249255035869, 0.5878703908195912]\n",
            "[0.31995424543894624, 0.4510608326738811, 0.3030455042374635, 0.36637926615672933, 0.3786814383393756]\n"
          ]
        }
      ]
    },
    {
      "cell_type": "code",
      "source": [
        "print(tr)\n",
        "print(tf)\n",
        "print(tftr)"
      ],
      "metadata": {
        "id": "cGi3axFrMkXz",
        "colab": {
          "base_uri": "https://localhost:8080/"
        },
        "outputId": "6a469d73-8104-4a77-c46d-bba2d4aa0214"
      },
      "execution_count": null,
      "outputs": [
        {
          "output_type": "stream",
          "name": "stdout",
          "text": [
            "[0.6040492697911203, 0.5930930109021995, 0.5992643747401747, 0.5869733249509876, 0.5920495473833844]\n",
            "[0.35971784090703357, 0.4806451829067754, 0.3572613598770855, 0.39998998290595006, 0.46047452297320024]\n",
            "[0.31497253169945844, 0.4316635080503364, 0.3029941466715337, 0.38649658184038005, 0.36701784755468725]\n"
          ]
        }
      ]
    },
    {
      "cell_type": "code",
      "source": [
        "cat=['politics', 'sport', 'tech', 'entertainment', 'business']\n",
        "trr=[]\n",
        "for z in cat:\n",
        "    x=df.loc[df['Category'] == z, 'TR_R'].mean()\n",
        "    trr.append(x)\n",
        "tfr=[]\n",
        "for z in cat:\n",
        "    x=df.loc[df['Category'] == z, 'TFIDF_R'].mean()\n",
        "    tfr.append(x)\n",
        "tftrr=[]\n",
        "for z in cat:\n",
        "    x=df.loc[df['Category'] == z, 'TFTR_R'].mean()\n",
        "    tftrr.append(x)\n",
        "\n",
        "x = np.arange(5)\n",
        "width = 0.2\n",
        "\n",
        "import matplotlib.pyplot as plt \n",
        "# plot data in grouped manner of bar type\n",
        "plt.bar(x-0.2, trr, width, color='blue')\n",
        "plt.bar(x, tfr, width, color='green')\n",
        "plt.bar(x+0.2, tftrr, width, color='orange')\n",
        "plt.xticks(x, cat)\n",
        "plt.title(\"Recall Score\")\n",
        "plt.xlabel(\"Category\")\n",
        "plt.ylabel(\"Scores\")\n",
        "plt.legend([\"TR\", \"TF\", \"TFTR\"])\n",
        "plt.show()"
      ],
      "metadata": {
        "colab": {
          "base_uri": "https://localhost:8080/",
          "height": 472
        },
        "id": "4ZuBzAZKMkqg",
        "outputId": "ecb6e4de-7d8e-4aef-b132-3c7d6e69fca1"
      },
      "execution_count": 80,
      "outputs": [
        {
          "output_type": "display_data",
          "data": {
            "text/plain": [
              "<Figure size 640x480 with 1 Axes>"
            ],
            "image/png": "[encoded data removed]"
          },
          "metadata": {}
        }
      ]
    },
    {
      "cell_type": "code",
      "source": [
        "print(trr)\n",
        "print(tfr)\n",
        "print(tftrr)"
      ],
      "metadata": {
        "colab": {
          "base_uri": "https://localhost:8080/"
        },
        "id": "YeBeNYt5RXiF",
        "outputId": "1994467f-b0eb-4754-ebb2-c6b808cd332a"
      },
      "execution_count": null,
      "outputs": [
        {
          "output_type": "stream",
          "name": "stdout",
          "text": [
            "[0.4347226669114533, 0.4245009112313987, 0.4296230503027421, 0.4181544684793087, 0.42228340985696133]\n",
            "[0.2251571381454484, 0.32421859917125806, 0.22028551692299364, 0.25738787284022624, 0.3041985180045196]\n",
            "[0.19223028025362743, 0.28206796737799006, 0.18053014616568447, 0.24472281013439962, 0.23220685958697818]\n"
          ]
        }
      ]
    },
    {
      "cell_type": "markdown",
      "source": [
        "## **HINDI**"
      ],
      "metadata": {
        "id": "umNXhEsRMSi6"
      }
    },
    {
      "cell_type": "code",
      "source": [
        "def extsumm_tr_hin(hindi_text):\n",
        "    hindi_text = hindi_text.replace(\"।\", \".\")\n",
        "    hindi_vectorizer = CountVectorizer().fit_transform(hindi_text.split('.'))\n",
        "    hindi_words = hindi_vectorizer.toarray()\n",
        "    hindi_similarity_matrix = cosine_similarity(hindi_words)\n",
        "    hindi_scores = np.round(np.squeeze(np.asarray(np.sum(hindi_similarity_matrix, axis=1))), 2)\n",
        "    hindi_ranks = np.argsort(-hindi_scores)\n",
        "    k = len(hindi_text.split('.'))//4\n",
        "    hin_summ = \"\"\n",
        "    for i in range(k):\n",
        "      hin_summ += hindi_text.split('.')[hindi_ranks[i]] + \". \"\n",
        "    return hin_summ"
      ],
      "metadata": {
        "id": "fr2TNuTwVcsa"
      },
      "execution_count": null,
      "outputs": []
    },
    {
      "cell_type": "code",
      "source": [
        "stpwords=['', 'किन्हें', 'दूसरा', 'जिन्हों', 'ऊपर', 'तिंहें', 'हुइ', 'क्यों', 'बंद', 'नहिं', 'यदि', 'इसकी', 'जिसे', 'हे', 'कुछ', 'लिये', 'अदि', 'जायेंगे', 'किसी', 'निहायत', 'सभि', 'जा', 'जिन्हें', 'मैं', 'उसको', 'रवासा', 'होना', 'पुरा', 'ज्यादा', 'पास', 'किए', 'अपने', 'वे', 'वह', 'हो', 'जिधर', 'दोनो', 'इंहों', 'रहा', 'किंहों', 'उंहों', 'जहां', 'तिसे', 'जीधर', 'दे', 'उसकी', 'ऐसे', 'तरह', 'उन्हें', 'होती', 'कौन', 'रह', 'काफि', 'प्रति', 'करते', 'है', 'कहते', 'रहे', 'इसमें', 'ऐसा', 'ना', 'उसे', 'तिन्हों', 'कब', 'जरा', 'कइ', 'उस', 'काफ़ी', 'उंहें', 'जेसे', 'हूँ', 'अन्य', 'सबसे', 'इनके', 'तथा', 'समय', 'मानो', 'कहाँ', 'यहाँ', 'हुए', 'हम', 'तब', 'कैसे', 'उन्ह', 'भीतर', 'होते', 'करने', 'जिस', 'पे', 'प्रत्येक', 'जाती', 'माध्यम', 'फिर', 'तेरी', 'बाला', 'दूसरे', 'तो', 'यिह ', 'अगर', 'साबुत', 'खुद', 'तुम्हारा', 'हें', 'अभि', 'होति', 'जिन', 'बही', 'अर्थात', 'गये', 'इन ', 'था', 'इसके', 'सो', 'कोनसा', 'वह ', 'वुह', 'सब', 'थी', 'निकल', 'अब', 'किसे', 'लेकर', 'की', 'खिलाफ', 'कम', 'तहत', 'देकर', 'करें', 'यिह', 'इन्हें', 'उनके', 'के', 'रही', 'मुझ', 'वाले', 'दबारा', 'व', 'जैसे', 'सकते', 'बहि', 'उन्होने', 'एसे', 'अपनी', 'का', 'गया', 'को', 'किन्हों', 'अंदर', 'लेकिन', 'जहाँ', 'जैसा', 'इनका', 'में', 'कारण', 'कर', 'ऱ्वासा', 'हुआ', 'या', 'वुह ', 'होता', 'जिंहें', 'अप', 'एक', 'तिस', 'ले', 'मुझको', 'वगेरह', 'अत', 'क्यूंकि', 'उंहिं', 'सकता', 'थि', 'तुम्हारे', 'कोई', 'मुझे', 'अधिक', 'किस', 'आपका', 'आज', 'वहीं', 'इन्हों', 'हमारा', 'दिया', 'अधिकांश', 'मै', 'थे', 'रहती', 'गए', 'अथवा', 'उसी', 'ओर', 'तुम', 'दुसरे', 'वहाँ', 'होने', 'उन', 'पूरा', 'इसलिये', 'किसको', 'इसि', 'बनी', 'इनकी', 'कि', 'जाता', 'आगे', 'दोनों', 'तेरे', 'अनुसार', 'उसि', 'यह', 'साभ', 'कई', 'हमने', 'बहुत', 'कोइ', 'जबकि', 'ये', 'करना', 'तिन्हें', 'किर', 'नहीं', 'हूं', 'कभी', 'उनकी', 'वहिं', 'तिंहों', 'मेरे', 'स्थान', 'अपनि', 'घर', 'इस', 'मेरी', 'दूर', 'जाते', 'सारे', 'हुये', 'जिसमें', 'इन्हीं', 'बीच', 'जब', 'इसकि', 'मगर', 'रखें', 'जाने', 'हि', 'निचे', 'आप', 'से', 'द्वारा', 'जिंहों', 'इत्यादि', 'कहा', 'और', 'इंहें', 'समान', 'उनका', 'इसी', 'बिलकुल', 'दवारा', 'साम्हने', 'साथ', 'इन', 'क्योंकि', 'क्या', 'सारा', 'कहता', 'कितना', 'संग', 'बारे', 'मे', 'दुसरा', 'इंहिं', 'वग़ैरह', 'पर  ', 'कह', 'सकती', 'उसके', 'उनकि', 'बाहर', 'हुई', 'पूरे', 'लिया', 'गई', 'पडा', 'उसका', 'नीचे', 'जिससे', 'मेरा', 'तू', 'एस', 'गयी', 'यहां', 'अभी', 'पर', 'परन्तु', 'उन्हों', 'पहले', 'वर्ग', 'जो', 'लिए', 'तिन', 'आदि', 'एवं', 'बात', 'न', 'दो', 'हुअ', 'ही', 'तुझे', 'भी', 'किंहें', 'ने', 'इसे', 'उनको', 'बड़े', 'भितर', 'सभी', 'किया', 'दुबारा', 'उन्हीं', 'अपना', 'इतयादि', 'जेसा', 'कोन', 'चाहिए', 'दौरान', 'बाद', 'यही', 'बार', 'यहि', 'कौनसा', 'मात्र', 'किसि', 'बनि', 'बड़ा', 'उन्होंने', 'इसका', 'कल', 'उसने', 'कुल', 'वहां', 'तेरा', 'जितना', 'स्वयं', 'तक', 'हैं', 'भि', 'वरग', 'इसलिए', 'करता', 'परंतु']\n",
        "limit=3"
      ],
      "metadata": {
        "id": "FyjTgJ7tV7pD"
      },
      "execution_count": null,
      "outputs": []
    },
    {
      "cell_type": "code",
      "source": [
        "def extsumm_tfidf_hin(text, limit):\n",
        "    text = text.replace(\"।\", \".\")\n",
        "    text = text.replace('.', '. ')\n",
        "    keyword = []\n",
        "    doc = text.split(\" \")\n",
        "    for token in doc:\n",
        "        if(token in stpwords or token in punctuation):\n",
        "            continue\n",
        "        else:\n",
        "            keyword.append(token)\n",
        "    \n",
        "    freq_word = Counter(keyword)\n",
        "    max_freq = Counter(keyword).most_common(1)[0][1]\n",
        "    for w in freq_word:\n",
        "        freq_word[w] = (freq_word[w]/max_freq)\n",
        "        \n",
        "    sent_strength={}\n",
        "    sentences = text.split(\".\")\n",
        "    for sent in sentences:\n",
        "        sentx=sent\n",
        "        sent=sent.split(\" \")\n",
        "        for word in sent:\n",
        "            if word in freq_word.keys():\n",
        "                if sentx in sent_strength.keys():\n",
        "                    sent_strength[sentx]+=freq_word[word]\n",
        "                else:\n",
        "                    sent_strength[sentx]=freq_word[word]\n",
        "    \n",
        "    summary = []\n",
        "    sorted_x = sorted(sent_strength.items(), key=lambda kv: kv[1], reverse=True)\n",
        "    counter = 0\n",
        "    for i in range(len(sorted_x)):\n",
        "        summary.append(str(sorted_x[i][0]))\n",
        "\n",
        "        counter += 1\n",
        "        if(counter >= limit):\n",
        "            break\n",
        "    sresult=' '.join(summary)\n",
        "    return sresult\n"
      ],
      "metadata": {
        "id": "mbHoaEzAVdpP"
      },
      "execution_count": null,
      "outputs": []
    },
    {
      "cell_type": "code",
      "source": [
        "import re\n",
        "\n",
        "def combined_modelH(text):\n",
        "    text = text.replace(\"।\", \".\")\n",
        "    text = text.replace('.', '. ')\n",
        "    text=text.strip()\n",
        "    #textrank\n",
        "    hindi_text = hindi_text.replace(\"।\", \".\")\n",
        "    hindi_vectorizer = CountVectorizer().fit_transform(hindi_text.split('.'))\n",
        "    hindi_words = hindi_vectorizer.toarray()\n",
        "    hindi_similarity_matrix = cosine_similarity(hindi_words)\n",
        "    hindi_scores = np.round(np.squeeze(np.asarray(np.sum(hindi_similarity_matrix, axis=1))), 2)\n",
        "    newscore = preprocessing.normalize([hindi_scores])\n",
        "    tr_score=newscore[0]\n",
        "\n",
        "    #tfidf\n",
        "    keyword = []\n",
        "    doc = text.split(\" \")\n",
        "    for token in doc:\n",
        "        if(token in stpwords or token in punctuation):\n",
        "            continue\n",
        "        else:\n",
        "            keyword.append(token)\n",
        "    \n",
        "    freq_word = Counter(keyword)\n",
        "    max_freq = Counter(keyword).most_common(1)[0][1]\n",
        "    for w in freq_word:\n",
        "        freq_word[w] = (freq_word[w]/max_freq)\n",
        "        \n",
        "    sent_strength={}\n",
        "    sentences = text.split(\".\")\n",
        "    for sent in sentences:\n",
        "        sentx=sent\n",
        "        sent=sent.split(\" \")\n",
        "        for word in sent:\n",
        "            if word in freq_word.keys():\n",
        "                if sentx in sent_strength.keys():\n",
        "                    sent_strength[sentx]+=freq_word[word]\n",
        "                else:\n",
        "                    sent_strength[sentx]=freq_word[word]\n",
        "    \n",
        "    tfidf_score=(list(sent_strength.values()))\n",
        "    temp=preprocessing.normalize([tfidf_score])\n",
        "    tfidf_score=temp[0]\n",
        "    #print(len(tfidf_score),len(tr_score))\n",
        "    # print(doc.sents)\n",
        "    # print(text.split('.'))\n",
        "    l=min(len(tfidf_score),len(tr_score))\n",
        "    merged_score=np.array([(tr_score[x]*0.5)+(tfidf_score[x]*0.5) for x in range(l)])\n",
        "\n",
        "\n",
        "    newranks = np.argsort(-merged_score)\n",
        "    \n",
        "    k = 4\n",
        "    hin_summ = \"\"\n",
        "    for i in range(k):\n",
        "      hin_summ += text.split('.')[newranks[i]] + \". \"\n",
        "    return hin_summ\n",
        "\n",
        "combined_model(text)"
      ],
      "metadata": {
        "id": "TmAHN1FkWME-"
      },
      "execution_count": null,
      "outputs": []
    },
    {
      "cell_type": "code",
      "source": [
        "import pandas as pd\n",
        "df=pd.read_csv('/content/testing-qa.csv')"
      ],
      "metadata": {
        "id": "u9R2-d-LmO2r"
      },
      "execution_count": 85,
      "outputs": []
    },
    {
      "cell_type": "code",
      "source": [
        "df.head(100)"
      ],
      "metadata": {
        "colab": {
          "base_uri": "https://localhost:8080/",
          "height": 554
        },
        "id": "NMM9xxujmj3o",
        "outputId": "ca7d1402-bb8f-4c3b-f94b-3a8fc76732f0"
      },
      "execution_count": 101,
      "outputs": [
        {
          "output_type": "execute_result",
          "data": {
            "text/plain": [
              "                                         Question   \\\n",
              "0                          What is photosynthesis?   \n",
              "1                                 What is E-Waste?   \n",
              "2                      What is Biotic and Abiotic?   \n",
              "3                          What is Global Warming?   \n",
              "4                      What is Greenhouse effects?   \n",
              "..                                             ...   \n",
              "94  What is the Concept of Protected Area Network?   \n",
              "95     What are the Consequences of deforestation?   \n",
              "96                  What is Ecological Succession?   \n",
              "97                    Explain Radiation Pollution.   \n",
              "98                   What is Environmental Ethics?   \n",
              "\n",
              "                                               answer  \\\n",
              "0   Photosynthesis is the process by which plants,...   \n",
              "1   e-waste describes discarded electrical or elec...   \n",
              "2   Biotic and abiotic factors are what make up ec...   \n",
              "3   Global warming is the phenomenon of a gradual ...   \n",
              "4   The greenhouse effect is a process that occurs...   \n",
              "..                                                ...   \n",
              "94  The concept of a protected area network is a c...   \n",
              "95  Deforestation, or the removal of trees and oth...   \n",
              "96  Ecological succession is the process by which ...   \n",
              "97  Radiation pollution, also known as radioactive...   \n",
              "98  Environmental ethics is a branch of philosophy...   \n",
              "\n",
              "                                         other_answer Wrong Ans 2  len  \n",
              "0   Photosynthesis is the process by which plants ...               74  \n",
              "1   E-waste refers to the waste generated by elect...         NaN   44  \n",
              "2   Biotic refers to things that are made of metal...         NaN   44  \n",
              "3   Global Warming is the process of the earth get...         NaN  115  \n",
              "4   Greenhouse effects is the process by which pla...         NaN   46  \n",
              "..                                                ...         ...  ...  \n",
              "94  The concept of a protected area network is a c...         NaN  108  \n",
              "95  Deforestation has many positive consequences f...         NaN  112  \n",
              "96  Ecological succession is the process by which ...         NaN  129  \n",
              "97  Radiation Pollution is a type of pollution tha...         NaN  148  \n",
              "98  Environmental ethics is the study of how human...         NaN  133  \n",
              "\n",
              "[99 rows x 5 columns]"
            ],
            "text/html": [
              "\n",
              "  <div id=\"df-462f4b6e-a7e7-4898-ae42-113d6152cda6\">\n",
              "    <div class=\"colab-df-container\">\n",
              "      <div>\n",
              "<style scoped>\n",
              "    .dataframe tbody tr th:only-of-type {\n",
              "        vertical-align: middle;\n",
              "    }\n",
              "\n",
              "    .dataframe tbody tr th {\n",
              "        vertical-align: top;\n",
              "    }\n",
              "\n",
              "    .dataframe thead th {\n",
              "        text-align: right;\n",
              "    }\n",
              "</style>\n",
              "<table border=\"1\" class=\"dataframe\">\n",
              "  <thead>\n",
              "    <tr style=\"text-align: right;\">\n",
              "      <th></th>\n",
              "      <th>Question</th>\n",
              "      <th>answer</th>\n",
              "      <th>other_answer</th>\n",
              "      <th>Wrong Ans 2</th>\n",
              "      <th>len</th>\n",
              "    </tr>\n",
              "  </thead>\n",
              "  <tbody>\n",
              "    <tr>\n",
              "      <th>0</th>\n",
              "      <td>What is photosynthesis?</td>\n",
              "      <td>Photosynthesis is the process by which plants,...</td>\n",
              "      <td>Photosynthesis is the process by which plants ...</td>\n",
              "      <td></td>\n",
              "      <td>74</td>\n",
              "    </tr>\n",
              "    <tr>\n",
              "      <th>1</th>\n",
              "      <td>What is E-Waste?</td>\n",
              "      <td>e-waste describes discarded electrical or elec...</td>\n",
              "      <td>E-waste refers to the waste generated by elect...</td>\n",
              "      <td>NaN</td>\n",
              "      <td>44</td>\n",
              "    </tr>\n",
              "    <tr>\n",
              "      <th>2</th>\n",
              "      <td>What is Biotic and Abiotic?</td>\n",
              "      <td>Biotic and abiotic factors are what make up ec...</td>\n",
              "      <td>Biotic refers to things that are made of metal...</td>\n",
              "      <td>NaN</td>\n",
              "      <td>44</td>\n",
              "    </tr>\n",
              "    <tr>\n",
              "      <th>3</th>\n",
              "      <td>What is Global Warming?</td>\n",
              "      <td>Global warming is the phenomenon of a gradual ...</td>\n",
              "      <td>Global Warming is the process of the earth get...</td>\n",
              "      <td>NaN</td>\n",
              "      <td>115</td>\n",
              "    </tr>\n",
              "    <tr>\n",
              "      <th>4</th>\n",
              "      <td>What is Greenhouse effects?</td>\n",
              "      <td>The greenhouse effect is a process that occurs...</td>\n",
              "      <td>Greenhouse effects is the process by which pla...</td>\n",
              "      <td>NaN</td>\n",
              "      <td>46</td>\n",
              "    </tr>\n",
              "    <tr>\n",
              "      <th>...</th>\n",
              "      <td>...</td>\n",
              "      <td>...</td>\n",
              "      <td>...</td>\n",
              "      <td>...</td>\n",
              "      <td>...</td>\n",
              "    </tr>\n",
              "    <tr>\n",
              "      <th>94</th>\n",
              "      <td>What is the Concept of Protected Area Network?</td>\n",
              "      <td>The concept of a protected area network is a c...</td>\n",
              "      <td>The concept of a protected area network is a c...</td>\n",
              "      <td>NaN</td>\n",
              "      <td>108</td>\n",
              "    </tr>\n",
              "    <tr>\n",
              "      <th>95</th>\n",
              "      <td>What are the Consequences of deforestation?</td>\n",
              "      <td>Deforestation, or the removal of trees and oth...</td>\n",
              "      <td>Deforestation has many positive consequences f...</td>\n",
              "      <td>NaN</td>\n",
              "      <td>112</td>\n",
              "    </tr>\n",
              "    <tr>\n",
              "      <th>96</th>\n",
              "      <td>What is Ecological Succession?</td>\n",
              "      <td>Ecological succession is the process by which ...</td>\n",
              "      <td>Ecological succession is the process by which ...</td>\n",
              "      <td>NaN</td>\n",
              "      <td>129</td>\n",
              "    </tr>\n",
              "    <tr>\n",
              "      <th>97</th>\n",
              "      <td>Explain Radiation Pollution.</td>\n",
              "      <td>Radiation pollution, also known as radioactive...</td>\n",
              "      <td>Radiation Pollution is a type of pollution tha...</td>\n",
              "      <td>NaN</td>\n",
              "      <td>148</td>\n",
              "    </tr>\n",
              "    <tr>\n",
              "      <th>98</th>\n",
              "      <td>What is Environmental Ethics?</td>\n",
              "      <td>Environmental ethics is a branch of philosophy...</td>\n",
              "      <td>Environmental ethics is the study of how human...</td>\n",
              "      <td>NaN</td>\n",
              "      <td>133</td>\n",
              "    </tr>\n",
              "  </tbody>\n",
              "</table>\n",
              "<p>99 rows × 5 columns</p>\n",
              "</div>\n",
              "      <button class=\"colab-df-convert\" onclick=\"convertToInteractive('df-462f4b6e-a7e7-4898-ae42-113d6152cda6')\"\n",
              "              title=\"Convert this dataframe to an interactive table.\"\n",
              "              style=\"display:none;\">\n",
              "        \n",
              "  <svg xmlns=\"http://www.w3.org/2000/svg\" height=\"24px\"viewBox=\"0 0 24 24\"\n",
              "       width=\"24px\">\n",
              "    <path d=\"M0 0h24v24H0V0z\" fill=\"none\"/>\n",
              "    <path d=\"M18.56 5.44l.94 2.06.94-2.06 2.06-.94-2.06-.94-.94-2.06-.94 2.06-2.06.94zm-11 1L8.5 8.5l.94-2.06 2.06-.94-2.06-.94L8.5 2.5l-.94 2.06-2.06.94zm10 10l.94 2.06.94-2.06 2.06-.94-2.06-.94-.94-2.06-.94 2.06-2.06.94z\"/><path d=\"M17.41 7.96l-1.37-1.37c-.4-.4-.92-.59-1.43-.59-.52 0-1.04.2-1.43.59L10.3 9.45l-7.72 7.72c-.78.78-.78 2.05 0 2.83L4 21.41c.39.39.9.59 1.41.59.51 0 1.02-.2 1.41-.59l7.78-7.78 2.81-2.81c.8-.78.8-2.07 0-2.86zM5.41 20L4 18.59l7.72-7.72 1.47 1.35L5.41 20z\"/>\n",
              "  </svg>\n",
              "      </button>\n",
              "      \n",
              "  <style>\n",
              "    .colab-df-container {\n",
              "      display:flex;\n",
              "      flex-wrap:wrap;\n",
              "      gap: 12px;\n",
              "    }\n",
              "\n",
              "    .colab-df-convert {\n",
              "      background-color: #E8F0FE;\n",
              "      border: none;\n",
              "      border-radius: 50%;\n",
              "      cursor: pointer;\n",
              "      display: none;\n",
              "      fill: #1967D2;\n",
              "      height: 32px;\n",
              "      padding: 0 0 0 0;\n",
              "      width: 32px;\n",
              "    }\n",
              "\n",
              "    .colab-df-convert:hover {\n",
              "      background-color: #E2EBFA;\n",
              "      box-shadow: 0px 1px 2px rgba(60, 64, 67, 0.3), 0px 1px 3px 1px rgba(60, 64, 67, 0.15);\n",
              "      fill: #174EA6;\n",
              "    }\n",
              "\n",
              "    [theme=dark] .colab-df-convert {\n",
              "      background-color: #3B4455;\n",
              "      fill: #D2E3FC;\n",
              "    }\n",
              "\n",
              "    [theme=dark] .colab-df-convert:hover {\n",
              "      background-color: #434B5C;\n",
              "      box-shadow: 0px 1px 3px 1px rgba(0, 0, 0, 0.15);\n",
              "      filter: drop-shadow(0px 1px 2px rgba(0, 0, 0, 0.3));\n",
              "      fill: #FFFFFF;\n",
              "    }\n",
              "  </style>\n",
              "\n",
              "      <script>\n",
              "        const buttonEl =\n",
              "          document.querySelector('#df-462f4b6e-a7e7-4898-ae42-113d6152cda6 button.colab-df-convert');\n",
              "        buttonEl.style.display =\n",
              "          google.colab.kernel.accessAllowed ? 'block' : 'none';\n",
              "\n",
              "        async function convertToInteractive(key) {\n",
              "          const element = document.querySelector('#df-462f4b6e-a7e7-4898-ae42-113d6152cda6');\n",
              "          const dataTable =\n",
              "            await google.colab.kernel.invokeFunction('convertToInteractive',\n",
              "                                                     [key], {});\n",
              "          if (!dataTable) return;\n",
              "\n",
              "          const docLinkHtml = 'Like what you see? Visit the ' +\n",
              "            '<a target=\"_blank\" href=https://colab.research.google.com/notebooks/data_table.ipynb>data table notebook</a>'\n",
              "            + ' to learn more about interactive tables.';\n",
              "          element.innerHTML = '';\n",
              "          dataTable['output_type'] = 'display_data';\n",
              "          await google.colab.output.renderOutput(dataTable, element);\n",
              "          const docLink = document.createElement('div');\n",
              "          docLink.innerHTML = docLinkHtml;\n",
              "          element.appendChild(docLink);\n",
              "        }\n",
              "      </script>\n",
              "    </div>\n",
              "  </div>\n",
              "  "
            ]
          },
          "metadata": {},
          "execution_count": 101
        }
      ]
    },
    {
      "cell_type": "code",
      "source": [
        "def slen(text):\n",
        "    return len(text.split(\".\"))"
      ],
      "metadata": {
        "id": "702SlWISov0I"
      },
      "execution_count": 102,
      "outputs": []
    },
    {
      "cell_type": "code",
      "source": [
        "df['len']=df['answer'].apply(slen)"
      ],
      "metadata": {
        "id": "x42wEID_oQtw"
      },
      "execution_count": 103,
      "outputs": []
    },
    {
      "cell_type": "code",
      "source": [
        "df.loc[df['len'] >=5, 'answer'].count()"
      ],
      "metadata": {
        "colab": {
          "base_uri": "https://localhost:8080/"
        },
        "id": "ia7TItRJofip",
        "outputId": "f5a185ae-c836-453e-93ab-c9065ccb7aa2"
      },
      "execution_count": 105,
      "outputs": [
        {
          "output_type": "execute_result",
          "data": {
            "text/plain": [
              "78"
            ]
          },
          "metadata": {},
          "execution_count": 105
        }
      ]
    }
  ]
}